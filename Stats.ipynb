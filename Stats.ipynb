{
 "cells": [
  {
   "cell_type": "markdown",
   "id": "4d9a0985-6757-4533-9973-ba6b0ac333db",
   "metadata": {},
   "source": [
    "The average salary of a person is $100 now in a sample of 30 participants, \n",
    "we found out the average salary is $140. The standard deviation was $20.\n",
    "Does this affect the salary of the people? Also find the problem with 95% confidence interval."
   ]
  },
  {
   "cell_type": "code",
   "execution_count": 72,
   "id": "27203748-ed9c-474e-a4cf-13695946b531",
   "metadata": {},
   "outputs": [],
   "source": [
    "import numpy as np\n",
    "import pandas as pd\n",
    "from scipy import stats"
   ]
  },
  {
   "cell_type": "code",
   "execution_count": 74,
   "id": "63371927-c65c-4dbe-a598-a301e10c11d0",
   "metadata": {},
   "outputs": [
    {
     "name": "stdout",
     "output_type": "stream",
     "text": [
      " T-Statistics: 10.954451150103322\n",
      "Degree of freedom: 29\n"
     ]
    }
   ],
   "source": [
    "sample_mean = 140\n",
    "population_mean = 100\n",
    "n = 30\n",
    "std = 20\n",
    "alpha = 0.05\n",
    "ci = 95\n",
    "\n",
    "t_statis = (sample_mean - population_mean)/(std/np.sqrt(n))\n",
    "print(' T-Statistics:', t_statis)\n",
    "degree_of_freedom = n-1\n",
    "print('Degree of freedom:', degree_of_freedom)"
   ]
  },
  {
   "cell_type": "code",
   "execution_count": 76,
   "id": "9ac7d7cc-d0c9-48fa-a2cd-1e3e5dd929f9",
   "metadata": {},
   "outputs": [
    {
     "name": "stdout",
     "output_type": "stream",
     "text": [
      "t_critical_value_ub: 2.045229642132703\n",
      "t_critical_value_lb: -2.0452296421327034\n"
     ]
    }
   ],
   "source": [
    "t_critical_value_ub = stats.t.ppf(1-alpha/2,degree_of_freedom)\n",
    "t_critical_value_lb = stats.t.ppf(alpha/2,degree_of_freedom)\n",
    "print(\"t_critical_value_ub:\", t_critical_value_ub)\n",
    "print(\"t_critical_value_lb:\", t_critical_value_lb)"
   ]
  },
  {
   "cell_type": "code",
   "execution_count": 78,
   "id": "9507bb13-a81f-487d-a5a6-e53be709f243",
   "metadata": {},
   "outputs": [
    {
     "name": "stdout",
     "output_type": "stream",
     "text": [
      "p_value : 8.021361352916756e-12\n"
     ]
    }
   ],
   "source": [
    "\n",
    "p_value = 2 * (1 - stats.t.cdf(abs(t_statis), degree_of_freedom))\n",
    "print(f\"p_value : {p_value}\")\n",
    "\n",
    "\n",
    "#p_value = 2 * stats.t.sf(abs(t_statis), degree_of_freedom)\n",
    "#print(f\"p_value : {p_value}\")"
   ]
  },
  {
   "cell_type": "code",
   "execution_count": 80,
   "id": "cf88f44c-1fd4-4d97-893b-a7faf8ad6796",
   "metadata": {},
   "outputs": [
    {
     "name": "stdout",
     "output_type": "stream",
     "text": [
      "Reject NULL hypothesis\n"
     ]
    }
   ],
   "source": [
    "if p_value<alpha:\n",
    "    print(\"Reject NULL hypothesis\")\n",
    "else:\n",
    "    print(\"Accrpt NULL hypothesis\")"
   ]
  },
  {
   "cell_type": "markdown",
   "id": "536f9785-25f0-4f0c-af33-683a9a0f47c4",
   "metadata": {},
   "source": [
    "Comparing Test Scores of Students from Different Schools\n",
    "\n",
    "Suppose we have two groups of students: students from School A and students from School B.\n",
    "We want to determine if there's a significant difference in their performance on a standardized test.\n",
    "\n",
    "alpha = 0.05 \n",
    "\n",
    "\n",
    "null = school a and schoolb are equall       -  reject\n",
    "alternate =  school a and school b are unequall"
   ]
  },
  {
   "cell_type": "code",
   "execution_count": 91,
   "id": "80ba6f40-2da2-45e9-bbec-bac3c6f68154",
   "metadata": {},
   "outputs": [
    {
     "name": "stdout",
     "output_type": "stream",
     "text": [
      "t_statistic :0.12751516809793173\n",
      "p_value :0.8989737520075165\n",
      "Accept H0 : school a and school b are equall\n"
     ]
    }
   ],
   "source": [
    "school_a = np.random.normal(loc=75,scale=7.9,size=30)\n",
    "school_b = np.random.normal(loc=76,scale=7.9,size=30)\n",
    "\n",
    "\n",
    "t_statistic, p_value = stats.ttest_ind(school_a, school_b)\n",
    "\n",
    "print(f\"t_statistic :{t_statistic}\")\n",
    "print(f\"p_value :{p_value}\")\n",
    "\n",
    "if p_value < alpha:\n",
    "    print(\"Reject H0 : school a and school b are unequall\")\n",
    "else:\n",
    "    print(\"Accept H0 : school a and school b are equall\")"
   ]
  },
  {
   "cell_type": "markdown",
   "id": "6a5c0cff-25b8-4e2d-8a91-9995e8e0054b",
   "metadata": {},
   "source": [
    "Examining the Effectiveness of a Memory Technique\n",
    "\n",
    "Suppose a group of students wants to test the effectiveness of a memory technique called \"Method of Loci\"\n",
    "in improving memory retention. The method involves associating items to be remembered with specific locations\n",
    "in a familiar environment, such as rooms in a house.\n",
    "\n",
    "alapha = 0.05 #95% CI\n",
    "\n",
    "#information - data? 30 example - 20 things   after method of loci how?\n",
    "before method of loci - how?\n",
    "\n",
    "Null : before = after   (there is no change in memeory )\n",
    "alternate : before !- after scores (there is sig diff in memory)"
   ]
  },
  {
   "cell_type": "code",
   "execution_count": 95,
   "id": "2cc10500-c3be-45a3-8708-800e487bfac3",
   "metadata": {},
   "outputs": [
    {
     "name": "stdout",
     "output_type": "stream",
     "text": [
      "t_statisitic : 3.3964929510650523\n",
      "p_value : 0.0019986841507583075\n",
      "Reject H0 : There is sig diff in memory\n"
     ]
    }
   ],
   "source": [
    "before_scores = np.random.normal(loc=12, scale= 3, size=30)\n",
    "after_scores = np.random.normal(loc=8, scale= 3, size=30)\n",
    "\n",
    "t_statisitic, p_value = stats.ttest_rel(before_scores, after_scores)\n",
    "\n",
    "print(f\"t_statisitic : {t_statisitic}\")\n",
    "print(f\"p_value : {p_value}\")\n",
    "alpha = 0.05\n",
    "\n",
    "\n",
    "if p_value < alpha:\n",
    "    print(\"Reject H0 : There is sig diff in memory\")\n",
    "else:\n",
    "    print(\"Accept H0 : There is no sig diff in memory\")"
   ]
  },
  {
   "cell_type": "code",
   "execution_count": null,
   "id": "b82dc81f-bc30-412b-97fd-edeeee129aec",
   "metadata": {},
   "outputs": [],
   "source": []
  }
 ],
 "metadata": {
  "kernelspec": {
   "display_name": "Python 3 (ipykernel)",
   "language": "python",
   "name": "python3"
  },
  "language_info": {
   "codemirror_mode": {
    "name": "ipython",
    "version": 3
   },
   "file_extension": ".py",
   "mimetype": "text/x-python",
   "name": "python",
   "nbconvert_exporter": "python",
   "pygments_lexer": "ipython3",
   "version": "3.12.4"
  }
 },
 "nbformat": 4,
 "nbformat_minor": 5
}
